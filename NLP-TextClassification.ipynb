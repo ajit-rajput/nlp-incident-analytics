{
 "cells": [
  {
   "cell_type": "code",
   "execution_count": 33,
   "metadata": {},
   "outputs": [],
   "source": [
    "import pandas as pd\n",
    "import numpy as np\n",
    "import matplotlib.pyplot as plt\n",
    "%matplotlib inline\n",
    "\n",
    "import re\n",
    "\n",
    "## Importing Textblob package\n",
    "from textblob import TextBlob\n",
    "\n",
    "# Importing CountVectorizer for sparse matrix/ngrams frequencies\n",
    "from sklearn.feature_extraction.text import CountVectorizer\n",
    "\n",
    "## Import datetime\n",
    "import datetime as dt\n",
    "import nltk.compat\n",
    "import itertools\n",
    "import chardet"
   ]
  },
  {
   "cell_type": "code",
   "execution_count": 34,
   "metadata": {},
   "outputs": [
    {
     "data": {
      "text/html": [
       "<div>\n",
       "<style scoped>\n",
       "    .dataframe tbody tr th:only-of-type {\n",
       "        vertical-align: middle;\n",
       "    }\n",
       "\n",
       "    .dataframe tbody tr th {\n",
       "        vertical-align: top;\n",
       "    }\n",
       "\n",
       "    .dataframe thead th {\n",
       "        text-align: right;\n",
       "    }\n",
       "</style>\n",
       "<table border=\"1\" class=\"dataframe\">\n",
       "  <thead>\n",
       "    <tr style=\"text-align: right;\">\n",
       "      <th></th>\n",
       "      <th>bugid</th>\n",
       "      <th>summary</th>\n",
       "      <th>component</th>\n",
       "    </tr>\n",
       "  </thead>\n",
       "  <tbody>\n",
       "    <tr>\n",
       "      <th>12</th>\n",
       "      <td>569063</td>\n",
       "      <td>flash sound stops working until a restart of t...</td>\n",
       "      <td>General</td>\n",
       "    </tr>\n",
       "    <tr>\n",
       "      <th>13</th>\n",
       "      <td>570211</td>\n",
       "      <td>Dead keys not working on WYSIWYG editors</td>\n",
       "      <td>General</td>\n",
       "    </tr>\n",
       "    <tr>\n",
       "      <th>14</th>\n",
       "      <td>575165</td>\n",
       "      <td>Mac right click on track pad not working, pull...</td>\n",
       "      <td>General</td>\n",
       "    </tr>\n",
       "    <tr>\n",
       "      <th>16</th>\n",
       "      <td>582444</td>\n",
       "      <td>Javascript not working</td>\n",
       "      <td>General</td>\n",
       "    </tr>\n",
       "    <tr>\n",
       "      <th>17</th>\n",
       "      <td>584274</td>\n",
       "      <td>Password reminder not working</td>\n",
       "      <td>General</td>\n",
       "    </tr>\n",
       "    <tr>\n",
       "      <th>...</th>\n",
       "      <td>...</td>\n",
       "      <td>...</td>\n",
       "      <td>...</td>\n",
       "    </tr>\n",
       "    <tr>\n",
       "      <th>2723</th>\n",
       "      <td>616564</td>\n",
       "      <td>java is not working on firefox, 1001 bugs repo...</td>\n",
       "      <td>General</td>\n",
       "    </tr>\n",
       "    <tr>\n",
       "      <th>2727</th>\n",
       "      <td>648921</td>\n",
       "      <td>Upgraded to Firefox 4 ebay countdown clock sto...</td>\n",
       "      <td>General</td>\n",
       "    </tr>\n",
       "    <tr>\n",
       "      <th>2728</th>\n",
       "      <td>649837</td>\n",
       "      <td>Viewing PDF over 5MB in a embed field, is not ...</td>\n",
       "      <td>General</td>\n",
       "    </tr>\n",
       "    <tr>\n",
       "      <th>2734</th>\n",
       "      <td>933959</td>\n",
       "      <td>general.useragent.override.[domain] (about:con...</td>\n",
       "      <td>General</td>\n",
       "    </tr>\n",
       "    <tr>\n",
       "      <th>2750</th>\n",
       "      <td>1596381</td>\n",
       "      <td>auto-hiding the sidebar in userChrome.css is n...</td>\n",
       "      <td>General</td>\n",
       "    </tr>\n",
       "  </tbody>\n",
       "</table>\n",
       "<p>919 rows × 3 columns</p>\n",
       "</div>"
      ],
      "text/plain": [
       "        bugid                                            summary component\n",
       "12     569063  flash sound stops working until a restart of t...   General\n",
       "13     570211           Dead keys not working on WYSIWYG editors   General\n",
       "14     575165  Mac right click on track pad not working, pull...   General\n",
       "16     582444                             Javascript not working   General\n",
       "17     584274                      Password reminder not working   General\n",
       "...       ...                                                ...       ...\n",
       "2723   616564  java is not working on firefox, 1001 bugs repo...   General\n",
       "2727   648921  Upgraded to Firefox 4 ebay countdown clock sto...   General\n",
       "2728   649837  Viewing PDF over 5MB in a embed field, is not ...   General\n",
       "2734   933959  general.useragent.override.[domain] (about:con...   General\n",
       "2750  1596381  auto-hiding the sidebar in userChrome.css is n...   General\n",
       "\n",
       "[919 rows x 3 columns]"
      ]
     },
     "execution_count": 34,
     "metadata": {},
     "output_type": "execute_result"
    }
   ],
   "source": [
    "\n",
    "filepath = \"bugs-data.csv\"\n",
    "train_incidents = pd.read_csv(filepath,encoding=\"utf-8\")\n",
    "train_incidents = train_incidents[train_incidents['component'] == 'General']\n",
    "train_incidents\n"
   ]
  },
  {
   "cell_type": "code",
   "execution_count": 35,
   "metadata": {},
   "outputs": [
    {
     "data": {
      "text/plain": [
       "12    flash sound stops working until a restart of t...\n",
       "13             dead keys not working on wysiwyg editors\n",
       "14    mac right click on track pad not working pull ...\n",
       "16                               javascript not working\n",
       "17                        password reminder not working\n",
       "Name: summary, dtype: object"
      ]
     },
     "execution_count": 35,
     "metadata": {},
     "output_type": "execute_result"
    }
   ],
   "source": [
    "train_incidents[\"summary\"] = train_incidents[\"summary\"].apply(lambda x: x.lower())\n",
    "train_incidents[\"summary\"] = train_incidents[\"summary\"].apply(lambda x: re.sub('http\\S+:\\/\\/.*','',x))\n",
    "train_incidents[\"summary\"] = train_incidents[\"summary\"].apply(lambda x: re.sub('\\w*\\d\\w*','',x))\n",
    "train_incidents[\"summary\"] = train_incidents[\"summary\"].apply(lambda x: re.sub(' +',' ',x))\n",
    "train_incidents[\"summary\"] = train_incidents[\"summary\"].str.replace('[^\\w\\s]','')\n",
    "\n",
    "train_incidents[\"summary\"].head(5)"
   ]
  },
  {
   "cell_type": "code",
   "execution_count": 36,
   "metadata": {},
   "outputs": [],
   "source": [
    "#stop = set(stopwords.words('english')) - set(['not'])"
   ]
  },
  {
   "cell_type": "code",
   "execution_count": 37,
   "metadata": {},
   "outputs": [
    {
     "data": {
      "text/plain": [
       "12            flash sound stops working restart browser\n",
       "13                    dead keys working wysiwyg editors\n",
       "14    mac right click track pad working pull tab far...\n",
       "16                                   javascript working\n",
       "17                            password reminder working\n",
       "Name: summary, dtype: object"
      ]
     },
     "execution_count": 37,
     "metadata": {},
     "output_type": "execute_result"
    }
   ],
   "source": [
    "from nltk.corpus import stopwords\n",
    "stop = set(stopwords.words('english'))\n",
    "train_incidents[\"summary\"] = train_incidents[\"summary\"].apply(lambda x: \" \".join(x for x in x.split() \n",
    "                                                                                 if x not in stop))\n",
    "train_incidents[\"summary\"].head(5)"
   ]
  },
  {
   "cell_type": "code",
   "execution_count": 38,
   "metadata": {},
   "outputs": [
    {
     "data": {
      "text/plain": [
       "12               flash sound stops restart browser\n",
       "13                       dead keys wysiwyg editors\n",
       "14    mac right click track pad pull tab far right\n",
       "16                                      javascript\n",
       "17                               password reminder\n",
       "Name: summary, dtype: object"
      ]
     },
     "execution_count": 38,
     "metadata": {},
     "output_type": "execute_result"
    }
   ],
   "source": [
    "extrastops = ['working','available','properly','availableworking']\n",
    "train_incidents[\"summary\"] = train_incidents[\"summary\"].apply(lambda y: \" \".join(y for y in y.split() \n",
    "                                                                                 if y not in extrastops))\n",
    "train_incidents[\"summary\"].head(5)"
   ]
  },
  {
   "cell_type": "code",
   "execution_count": 39,
   "metadata": {},
   "outputs": [
    {
     "data": {
      "text/plain": [
       "firefox    188\n",
       "stops       86\n",
       "page        68\n",
       "dtype: int64"
      ]
     },
     "execution_count": 39,
     "metadata": {},
     "output_type": "execute_result"
    }
   ],
   "source": [
    "#Common word removal\n",
    "freq = pd.Series(' '.join(train_incidents['summary']).split()).value_counts()[:3]\n",
    "freq\n",
    "\n",
    "##### We will not remove the common word now ####\n",
    "#freq = list(freq.index)\n",
    "#train_incidents['summary'] = train_incidents['summary'].apply(lambda x: \" \".join(x for x in x.split() if x not in freq))\n",
    "#train_incidents['summary'].head(5)"
   ]
  },
  {
   "cell_type": "code",
   "execution_count": 40,
   "metadata": {},
   "outputs": [
    {
     "data": {
      "text/plain": [
       "12               flash sound stops restart browser\n",
       "13                       dead keys wysiwyg editors\n",
       "14    mac right click track pad pull tab far right\n",
       "16                                      javascript\n",
       "17                               password reminder\n",
       "Name: summary, dtype: object"
      ]
     },
     "execution_count": 40,
     "metadata": {},
     "output_type": "execute_result"
    }
   ],
   "source": [
    "#Rare words removal \n",
    "freq = pd.Series(' '.join(train_incidents[\"summary\"]).split()).value_counts()[-5:]\n",
    "freq = list(freq.index)\n",
    "train_incidents['summary'] = train_incidents['summary'].apply(lambda x: \" \".join(x for x in x.split() \n",
    "                                                                                 if x not in freq))\n",
    "train_incidents['summary'].head(5)"
   ]
  },
  {
   "cell_type": "code",
   "execution_count": 41,
   "metadata": {},
   "outputs": [
    {
     "data": {
      "text/plain": [
       "12                    flash sound stop restart browser\n",
       "13                             dead key wysiwyg editor\n",
       "14        mac right click track pad pull tab far right\n",
       "16                                          javascript\n",
       "17                                     password remind\n",
       "18                                        function key\n",
       "21                                 copi past text ebay\n",
       "23    plugin contain stop adob plugin minefield window\n",
       "24              item list tab without caption mani tab\n",
       "25                                 flash plugin anymor\n",
       "Name: summary, dtype: object"
      ]
     },
     "execution_count": 41,
     "metadata": {},
     "output_type": "execute_result"
    }
   ],
   "source": [
    "#Stemming - \n",
    "#This is example of the results. We prefer lemmatization over Stemming\n",
    "from nltk.stem import PorterStemmer\n",
    "st = PorterStemmer()\n",
    "train_incidents[\"summary\"][:10].apply(lambda x: \" \".join([st.stem(word) for word in x.split()]))\n",
    "#train_incidents[\"summary\"] = train_incidents[\"summary\"].apply(lambda x: \" \".join([st.stem(word) for word in x.split()]))\n",
    "#train_incidents[\"summary\"].head(40)"
   ]
  },
  {
   "cell_type": "code",
   "execution_count": 42,
   "metadata": {},
   "outputs": [
    {
     "data": {
      "text/plain": [
       "12                     flash sound stop restart browser\n",
       "13                             dead key wysiwyg editors\n",
       "14         mac right click track pad pull tab far right\n",
       "16                                           javascript\n",
       "17                                    password reminder\n",
       "18                                         function key\n",
       "21                                 copy paste text ebay\n",
       "23    plugin container stop adobe plugin minefield w...\n",
       "24            items list tabs without caption many tabs\n",
       "25                                 flash plugin anymore\n",
       "26    hide wireless leave mouse button dont work fin...\n",
       "27                                java script historygo\n",
       "28                                          java plugin\n",
       "29                                feedback button click\n",
       "30                   view mac app store button web link\n",
       "Name: summary, dtype: object"
      ]
     },
     "execution_count": 42,
     "metadata": {},
     "output_type": "execute_result"
    }
   ],
   "source": [
    "#Lemmatization\n",
    "from textblob import Word\n",
    "nltk.data.path.append('')\n",
    "train_incidents[\"summary\"] = train_incidents[\"summary\"].apply(lambda x: \" \".join(\n",
    "                                    [Word(myword).lemmatize(pos=\"v\") for myword in x.split()]))\n",
    "train_incidents[\"summary\"].head(15)"
   ]
  },
  {
   "cell_type": "code",
   "execution_count": 44,
   "metadata": {},
   "outputs": [
    {
     "data": {
      "text/html": [
       "<div>\n",
       "<style scoped>\n",
       "    .dataframe tbody tr th:only-of-type {\n",
       "        vertical-align: middle;\n",
       "    }\n",
       "\n",
       "    .dataframe tbody tr th {\n",
       "        vertical-align: top;\n",
       "    }\n",
       "\n",
       "    .dataframe thead th {\n",
       "        text-align: right;\n",
       "    }\n",
       "</style>\n",
       "<table border=\"1\" class=\"dataframe\">\n",
       "  <thead>\n",
       "    <tr style=\"text-align: right;\">\n",
       "      <th></th>\n",
       "      <th>frequency</th>\n",
       "    </tr>\n",
       "  </thead>\n",
       "  <tbody>\n",
       "    <tr>\n",
       "      <th>firefox stop</th>\n",
       "      <td>10.726588</td>\n",
       "    </tr>\n",
       "    <tr>\n",
       "      <th>right click</th>\n",
       "      <td>6.788241</td>\n",
       "    </tr>\n",
       "    <tr>\n",
       "      <th>back button</th>\n",
       "      <td>4.355824</td>\n",
       "    </tr>\n",
       "    <tr>\n",
       "      <th>popup blocker</th>\n",
       "      <td>4.286545</td>\n",
       "    </tr>\n",
       "    <tr>\n",
       "      <th>button stop</th>\n",
       "      <td>3.764036</td>\n",
       "    </tr>\n",
       "    <tr>\n",
       "      <th>web page</th>\n",
       "      <td>3.713350</td>\n",
       "    </tr>\n",
       "    <tr>\n",
       "      <th>mouse wheel</th>\n",
       "      <td>3.348493</td>\n",
       "    </tr>\n",
       "    <tr>\n",
       "      <th>flash plugin</th>\n",
       "      <td>3.180388</td>\n",
       "    </tr>\n",
       "    <tr>\n",
       "      <th>copy paste</th>\n",
       "      <td>3.059461</td>\n",
       "    </tr>\n",
       "    <tr>\n",
       "      <th>stop upgrade</th>\n",
       "      <td>3.013213</td>\n",
       "    </tr>\n",
       "  </tbody>\n",
       "</table>\n",
       "</div>"
      ],
      "text/plain": [
       "               frequency\n",
       "firefox stop   10.726588\n",
       "right click     6.788241\n",
       "back button     4.355824\n",
       "popup blocker   4.286545\n",
       "button stop     3.764036\n",
       "web page        3.713350\n",
       "mouse wheel     3.348493\n",
       "flash plugin    3.180388\n",
       "copy paste      3.059461\n",
       "stop upgrade    3.013213"
      ]
     },
     "execution_count": 44,
     "metadata": {},
     "output_type": "execute_result"
    }
   ],
   "source": [
    "# We don’t have to calculate TF and IDF every time beforehand and then multiply it to obtain TF-IDF. \n",
    "# Instead, sklearn has a separate function to directly obtain it:\n",
    "\n",
    "from sklearn.feature_extraction.text import TfidfVectorizer\n",
    "tfidf = TfidfVectorizer(ngram_range=(2,2))\n",
    "sparse_matrix = tfidf.fit_transform(train_incidents[\"summary\"])\n",
    "#print (list(sparse_matrix.toarray()))\n",
    "frequencies = sum(sparse_matrix).toarray()[0]\n",
    "df_grams = pd.DataFrame(frequencies, index=tfidf.get_feature_names(), columns=['frequency'])\n",
    "df_grams.sort_values(by = \"frequency\",ascending=False).head(10)\n",
    "\n"
   ]
  },
  {
   "cell_type": "code",
   "execution_count": 106,
   "metadata": {},
   "outputs": [
    {
     "name": "stdout",
     "output_type": "stream",
     "text": [
      "Sparsicity:  0.046831489101011495 %\n"
     ]
    }
   ],
   "source": [
    "#Sparsicity is nothing but the percentage of non-zero datapoints in the document-word matrix, that is data_vectorized.\n",
    "#Since most cells in this matrix will be zero, I am interested in knowing what percentage of cells contain non-zero values.\n",
    "# Materialize the sparse data\n",
    "data_dense = sparse_matrix.todense()\n",
    "\n",
    "# Compute Sparsicity = Percentage of Non-Zero cells\n",
    "print(\"Sparsicity: \", ((data_dense > 0).sum()/data_dense.size)*100, \"%\")"
   ]
  },
  {
   "cell_type": "code",
   "execution_count": 66,
   "metadata": {},
   "outputs": [
    {
     "data": {
      "text/plain": [
       "(array([0. , 0.2, 0.4, 0.6, 0.8, 1. , 1.2, 1.4, 1.6]),\n",
       " <a list of 9 Text major ticklabel objects>)"
      ]
     },
     "execution_count": 66,
     "metadata": {},
     "output_type": "execute_result"
    },
    {
     "data": {
      "image/png": "[encoded data removed]",
      "text/plain": [
       "<Figure size 432x288 with 1 Axes>"
      ]
     },
     "metadata": {},
     "output_type": "display_data"
    }
   ],
   "source": [
    "plt.style.use(\"ggplot\")\n",
    "plt.xlabel(\"Frequency\",)\n",
    "plt.ylabel(\"Terms\")\n",
    "trigrams_short_description = df_grams[\"frequency\"].sort_values(ascending = False)\n",
    "top20_trigrams = df_grams[\"frequency\"].sort_values(ascending = False).head(15)\n",
    "\n",
    "top5_trigrams_plot =  top20_trigrams.head(15).sort_values(ascending = True).plot(\n",
    "                                                kind=\"barh\",title = \"Top 10 Frequent Bi Grams\")\n",
    "top5_trigrams_plot\n",
    "plt.xticks(rotation=75)"
   ]
  },
  {
   "cell_type": "code",
   "execution_count": null,
   "metadata": {},
   "outputs": [],
   "source": []
  }
 ],
 "metadata": {
  "kernelspec": {
   "display_name": "Python 3",
   "language": "python",
   "name": "python3"
  },
  "language_info": {
   "codemirror_mode": {
    "name": "ipython",
    "version": 3
   },
   "file_extension": ".py",
   "mimetype": "text/x-python",
   "name": "python",
   "nbconvert_exporter": "python",
   "pygments_lexer": "ipython3",
   "version": "3.7.7"
  }
 },
 "nbformat": 4,
 "nbformat_minor": 4
}
